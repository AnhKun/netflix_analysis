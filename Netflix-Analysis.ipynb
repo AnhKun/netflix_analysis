{
 "cells": [
  {
   "cell_type": "markdown",
   "id": "personal-foster",
   "metadata": {},
   "source": [
    "## Import libraries"
   ]
  },
  {
   "cell_type": "code",
   "execution_count": 1,
   "id": "satisfactory-class",
   "metadata": {},
   "outputs": [],
   "source": [
    "import numpy as np\n",
    "import pandas as pd\n",
    "import matplotlib.pyplot as plt\n",
    "import seaborn as sns"
   ]
  },
  {
   "cell_type": "markdown",
   "id": "english-convenience",
   "metadata": {},
   "source": [
    "## Import data"
   ]
  },
  {
   "cell_type": "code",
   "execution_count": 2,
   "id": "accomplished-march",
   "metadata": {},
   "outputs": [
    {
     "data": {
      "text/html": [
       "<div>\n",
       "<style scoped>\n",
       "    .dataframe tbody tr th:only-of-type {\n",
       "        vertical-align: middle;\n",
       "    }\n",
       "\n",
       "    .dataframe tbody tr th {\n",
       "        vertical-align: top;\n",
       "    }\n",
       "\n",
       "    .dataframe thead th {\n",
       "        text-align: right;\n",
       "    }\n",
       "</style>\n",
       "<table border=\"1\" class=\"dataframe\">\n",
       "  <thead>\n",
       "    <tr style=\"text-align: right;\">\n",
       "      <th></th>\n",
       "      <th>show_id</th>\n",
       "      <th>type</th>\n",
       "      <th>title</th>\n",
       "      <th>director</th>\n",
       "      <th>cast</th>\n",
       "      <th>country</th>\n",
       "      <th>date_added</th>\n",
       "      <th>release_year</th>\n",
       "      <th>rating</th>\n",
       "      <th>duration</th>\n",
       "      <th>listed_in</th>\n",
       "      <th>description</th>\n",
       "    </tr>\n",
       "  </thead>\n",
       "  <tbody>\n",
       "    <tr>\n",
       "      <th>0</th>\n",
       "      <td>s1</td>\n",
       "      <td>TV Show</td>\n",
       "      <td>3%</td>\n",
       "      <td>NaN</td>\n",
       "      <td>João Miguel, Bianca Comparato, Michel Gomes, R...</td>\n",
       "      <td>Brazil</td>\n",
       "      <td>August 14, 2020</td>\n",
       "      <td>2020</td>\n",
       "      <td>TV-MA</td>\n",
       "      <td>4 Seasons</td>\n",
       "      <td>International TV Shows, TV Dramas, TV Sci-Fi &amp;...</td>\n",
       "      <td>In a future where the elite inhabit an island ...</td>\n",
       "    </tr>\n",
       "    <tr>\n",
       "      <th>1</th>\n",
       "      <td>s2</td>\n",
       "      <td>Movie</td>\n",
       "      <td>7:19</td>\n",
       "      <td>Jorge Michel Grau</td>\n",
       "      <td>Demián Bichir, Héctor Bonilla, Oscar Serrano, ...</td>\n",
       "      <td>Mexico</td>\n",
       "      <td>December 23, 2016</td>\n",
       "      <td>2016</td>\n",
       "      <td>TV-MA</td>\n",
       "      <td>93 min</td>\n",
       "      <td>Dramas, International Movies</td>\n",
       "      <td>After a devastating earthquake hits Mexico Cit...</td>\n",
       "    </tr>\n",
       "    <tr>\n",
       "      <th>2</th>\n",
       "      <td>s3</td>\n",
       "      <td>Movie</td>\n",
       "      <td>23:59</td>\n",
       "      <td>Gilbert Chan</td>\n",
       "      <td>Tedd Chan, Stella Chung, Henley Hii, Lawrence ...</td>\n",
       "      <td>Singapore</td>\n",
       "      <td>December 20, 2018</td>\n",
       "      <td>2011</td>\n",
       "      <td>R</td>\n",
       "      <td>78 min</td>\n",
       "      <td>Horror Movies, International Movies</td>\n",
       "      <td>When an army recruit is found dead, his fellow...</td>\n",
       "    </tr>\n",
       "    <tr>\n",
       "      <th>3</th>\n",
       "      <td>s4</td>\n",
       "      <td>Movie</td>\n",
       "      <td>9</td>\n",
       "      <td>Shane Acker</td>\n",
       "      <td>Elijah Wood, John C. Reilly, Jennifer Connelly...</td>\n",
       "      <td>United States</td>\n",
       "      <td>November 16, 2017</td>\n",
       "      <td>2009</td>\n",
       "      <td>PG-13</td>\n",
       "      <td>80 min</td>\n",
       "      <td>Action &amp; Adventure, Independent Movies, Sci-Fi...</td>\n",
       "      <td>In a postapocalyptic world, rag-doll robots hi...</td>\n",
       "    </tr>\n",
       "    <tr>\n",
       "      <th>4</th>\n",
       "      <td>s5</td>\n",
       "      <td>Movie</td>\n",
       "      <td>21</td>\n",
       "      <td>Robert Luketic</td>\n",
       "      <td>Jim Sturgess, Kevin Spacey, Kate Bosworth, Aar...</td>\n",
       "      <td>United States</td>\n",
       "      <td>January 1, 2020</td>\n",
       "      <td>2008</td>\n",
       "      <td>PG-13</td>\n",
       "      <td>123 min</td>\n",
       "      <td>Dramas</td>\n",
       "      <td>A brilliant group of students become card-coun...</td>\n",
       "    </tr>\n",
       "  </tbody>\n",
       "</table>\n",
       "</div>"
      ],
      "text/plain": [
       "  show_id     type  title           director  \\\n",
       "0      s1  TV Show     3%                NaN   \n",
       "1      s2    Movie   7:19  Jorge Michel Grau   \n",
       "2      s3    Movie  23:59       Gilbert Chan   \n",
       "3      s4    Movie      9        Shane Acker   \n",
       "4      s5    Movie     21     Robert Luketic   \n",
       "\n",
       "                                                cast        country  \\\n",
       "0  João Miguel, Bianca Comparato, Michel Gomes, R...         Brazil   \n",
       "1  Demián Bichir, Héctor Bonilla, Oscar Serrano, ...         Mexico   \n",
       "2  Tedd Chan, Stella Chung, Henley Hii, Lawrence ...      Singapore   \n",
       "3  Elijah Wood, John C. Reilly, Jennifer Connelly...  United States   \n",
       "4  Jim Sturgess, Kevin Spacey, Kate Bosworth, Aar...  United States   \n",
       "\n",
       "          date_added  release_year rating   duration  \\\n",
       "0    August 14, 2020          2020  TV-MA  4 Seasons   \n",
       "1  December 23, 2016          2016  TV-MA     93 min   \n",
       "2  December 20, 2018          2011      R     78 min   \n",
       "3  November 16, 2017          2009  PG-13     80 min   \n",
       "4    January 1, 2020          2008  PG-13    123 min   \n",
       "\n",
       "                                           listed_in  \\\n",
       "0  International TV Shows, TV Dramas, TV Sci-Fi &...   \n",
       "1                       Dramas, International Movies   \n",
       "2                Horror Movies, International Movies   \n",
       "3  Action & Adventure, Independent Movies, Sci-Fi...   \n",
       "4                                             Dramas   \n",
       "\n",
       "                                         description  \n",
       "0  In a future where the elite inhabit an island ...  \n",
       "1  After a devastating earthquake hits Mexico Cit...  \n",
       "2  When an army recruit is found dead, his fellow...  \n",
       "3  In a postapocalyptic world, rag-doll robots hi...  \n",
       "4  A brilliant group of students become card-coun...  "
      ]
     },
     "execution_count": 2,
     "metadata": {},
     "output_type": "execute_result"
    }
   ],
   "source": [
    "data = pd.read_csv(\"datasets/netflix.csv\")\n",
    "data.head()"
   ]
  },
  {
   "cell_type": "markdown",
   "id": "increasing-spank",
   "metadata": {},
   "source": [
    "## Assess data\n"
   ]
  },
  {
   "cell_type": "code",
   "execution_count": 3,
   "id": "civilian-carol",
   "metadata": {},
   "outputs": [
    {
     "name": "stdout",
     "output_type": "stream",
     "text": [
      "<class 'pandas.core.frame.DataFrame'>\n",
      "RangeIndex: 7787 entries, 0 to 7786\n",
      "Data columns (total 12 columns):\n",
      " #   Column        Non-Null Count  Dtype \n",
      "---  ------        --------------  ----- \n",
      " 0   show_id       7787 non-null   object\n",
      " 1   type          7787 non-null   object\n",
      " 2   title         7787 non-null   object\n",
      " 3   director      5398 non-null   object\n",
      " 4   cast          7069 non-null   object\n",
      " 5   country       7280 non-null   object\n",
      " 6   date_added    7777 non-null   object\n",
      " 7   release_year  7787 non-null   int64 \n",
      " 8   rating        7780 non-null   object\n",
      " 9   duration      7787 non-null   object\n",
      " 10  listed_in     7787 non-null   object\n",
      " 11  description   7787 non-null   object\n",
      "dtypes: int64(1), object(11)\n",
      "memory usage: 730.2+ KB\n"
     ]
    }
   ],
   "source": [
    "data.info()"
   ]
  },
  {
   "cell_type": "markdown",
   "id": "brutal-evans",
   "metadata": {},
   "source": [
    "#### Note: \n",
    "- \"date_added\" does not have meaningful\n",
    "- There are missing values in columns \"director\", \"cast\", \"country\", and \"rating\""
   ]
  },
  {
   "cell_type": "markdown",
   "id": "danish-outreach",
   "metadata": {},
   "source": [
    "## Clean data\n"
   ]
  },
  {
   "cell_type": "code",
   "execution_count": 4,
   "id": "aquatic-telescope",
   "metadata": {},
   "outputs": [],
   "source": [
    "df = data.copy()"
   ]
  },
  {
   "cell_type": "markdown",
   "id": "weighted-roller",
   "metadata": {},
   "source": [
    "### Task 1: drop duplicate values in df"
   ]
  },
  {
   "cell_type": "code",
   "execution_count": 5,
   "id": "noble-florence",
   "metadata": {},
   "outputs": [
    {
     "data": {
      "text/plain": [
       "0"
      ]
     },
     "execution_count": 5,
     "metadata": {},
     "output_type": "execute_result"
    }
   ],
   "source": [
    "# check whether df has duplicate values or not\n",
    "df.duplicated().sum()"
   ]
  },
  {
   "cell_type": "markdown",
   "id": "greenhouse-hypothetical",
   "metadata": {},
   "source": [
    "=> There are no duplicate values in df."
   ]
  },
  {
   "cell_type": "markdown",
   "id": "indonesian-mongolia",
   "metadata": {},
   "source": [
    "### Task 2: drop column \"date_added\""
   ]
  },
  {
   "cell_type": "code",
   "execution_count": 6,
   "id": "neither-advertiser",
   "metadata": {},
   "outputs": [
    {
     "data": {
      "text/plain": [
       "Index(['show_id', 'type', 'title', 'director', 'cast', 'country',\n",
       "       'release_year', 'rating', 'duration', 'listed_in', 'description'],\n",
       "      dtype='object')"
      ]
     },
     "execution_count": 6,
     "metadata": {},
     "output_type": "execute_result"
    }
   ],
   "source": [
    "df.drop(['date_added'], axis=1, inplace=True)\n",
    "# test\n",
    "df.columns"
   ]
  },
  {
   "cell_type": "markdown",
   "id": "cleared-kuwait",
   "metadata": {},
   "source": [
    "### Task 3: fill missing values in column \"director\", \"cast\", \"country\", and \"rating\"\n",
    "Because we do not have any values to substitude for those columns, so we will use \"unknown\" for those columns."
   ]
  },
  {
   "cell_type": "code",
   "execution_count": 7,
   "id": "premier-surveillance",
   "metadata": {},
   "outputs": [
    {
     "data": {
      "text/plain": [
       "show_id         0\n",
       "type            0\n",
       "title           0\n",
       "director        0\n",
       "cast            0\n",
       "country         0\n",
       "release_year    0\n",
       "rating          0\n",
       "duration        0\n",
       "listed_in       0\n",
       "description     0\n",
       "dtype: int64"
      ]
     },
     "execution_count": 7,
     "metadata": {},
     "output_type": "execute_result"
    }
   ],
   "source": [
    "# column \"director\"\n",
    "df['director'].fillna(\"unknown\", inplace=True)\n",
    "# column \"cast\"\n",
    "df['cast'].fillna(\"unknown\", inplace=True)\n",
    "# column \"country\"\n",
    "df['country'].fillna(\"unknown\", inplace=True)\n",
    "# column \"rating\"\n",
    "df['rating'].fillna(\"unknown\", inplace=True)\n",
    "# test\n",
    "df.isnull().sum()"
   ]
  },
  {
   "cell_type": "markdown",
   "id": "greek-client",
   "metadata": {},
   "source": [
    "## Analyze data\n",
    "### Question 1: In which year highest number of TV shows & movies were released?"
   ]
  },
  {
   "cell_type": "code",
   "execution_count": 8,
   "id": "global-withdrawal",
   "metadata": {
    "scrolled": true
   },
   "outputs": [
    {
     "data": {
      "text/plain": [
       "release_year\n",
       "1925       1\n",
       "1942       2\n",
       "1943       3\n",
       "1944       3\n",
       "1945       3\n",
       "        ... \n",
       "2017    1012\n",
       "2018    1121\n",
       "2019     996\n",
       "2020     868\n",
       "2021      31\n",
       "Name: show_id, Length: 73, dtype: int64"
      ]
     },
     "execution_count": 8,
     "metadata": {},
     "output_type": "execute_result"
    }
   ],
   "source": [
    "# use groupby and count method to get the number of TV shows and movies for each year\n",
    "df.groupby('release_year').count()['show_id']"
   ]
  },
  {
   "cell_type": "code",
   "execution_count": 9,
   "id": "composite-namibia",
   "metadata": {},
   "outputs": [],
   "source": [
    "q1 = df.groupby('release_year').count()['show_id']"
   ]
  },
  {
   "cell_type": "code",
   "execution_count": 10,
   "id": "smart-establishment",
   "metadata": {},
   "outputs": [
    {
     "data": {
      "text/plain": [
       "2018"
      ]
     },
     "execution_count": 10,
     "metadata": {},
     "output_type": "execute_result"
    }
   ],
   "source": [
    "# use idxmax() to get the answer\n",
    "q1.idxmax()"
   ]
  },
  {
   "cell_type": "markdown",
   "id": "selective-audit",
   "metadata": {},
   "source": [
    "Now, we will use the bar chart to clarify our answer."
   ]
  },
  {
   "cell_type": "code",
   "execution_count": 11,
   "id": "million-bronze",
   "metadata": {},
   "outputs": [
    {
     "data": {
      "image/png": "[encoded data removed]",
      "text/plain": [
       "<Figure size 432x288 with 1 Axes>"
      ]
     },
     "metadata": {
      "needs_background": "light"
     },
     "output_type": "display_data"
    }
   ],
   "source": [
    "# use plt.bar to plot the bar chart\n",
    "plt.bar(q1.index, q1)\n",
    "plt.show()"
   ]
  },
  {
   "cell_type": "markdown",
   "id": "numerous-white",
   "metadata": {},
   "source": [
    "As we can see above, the highest number of TV shows and movies seem to be released just in the past decade, so we will take from 2010 to 2020 as the boundary for xlim."
   ]
  },
  {
   "cell_type": "code",
   "execution_count": 12,
   "id": "aboriginal-yemen",
   "metadata": {},
   "outputs": [
    {
     "data": {
      "image/png": "[encoded data removed]",
      "text/plain": [
       "<Figure size 432x288 with 1 Axes>"
      ]
     },
     "metadata": {
      "needs_background": "light"
     },
     "output_type": "display_data"
    }
   ],
   "source": [
    "plt.bar(q1.index, q1)\n",
    "plt.xlim(2010, 2020)\n",
    "plt.xlabel(\"Year of release\")\n",
    "plt.ylabel(\"Number of TV shows and movies\")\n",
    "plt.show()"
   ]
  },
  {
   "cell_type": "markdown",
   "id": "linear-challenge",
   "metadata": {},
   "source": [
    "#### Answer: \n",
    "The number of TV shows and movies were released in 2018 is the highest."
   ]
  },
  {
   "cell_type": "markdown",
   "id": "floppy-society",
   "metadata": {},
   "source": [
    "### Question 2: How many TV shows and Movies are in the dataset?"
   ]
  },
  {
   "cell_type": "code",
   "execution_count": 13,
   "id": "ordered-median",
   "metadata": {},
   "outputs": [
    {
     "data": {
      "text/plain": [
       "Movie      5377\n",
       "TV Show    2410\n",
       "Name: type, dtype: int64"
      ]
     },
     "execution_count": 13,
     "metadata": {},
     "output_type": "execute_result"
    }
   ],
   "source": [
    "# use value_count() to get the frequency for each category\n",
    "df['type'].value_counts()"
   ]
  },
  {
   "cell_type": "code",
   "execution_count": 14,
   "id": "featured-census",
   "metadata": {},
   "outputs": [
    {
     "data": {
      "image/png": "[encoded data removed]",
      "text/plain": [
       "<Figure size 432x288 with 1 Axes>"
      ]
     },
     "metadata": {
      "needs_background": "light"
     },
     "output_type": "display_data"
    }
   ],
   "source": [
    "# Plot the bar chart\n",
    "df['type'].value_counts().plot(kind='bar');"
   ]
  },
  {
   "cell_type": "markdown",
   "id": "tribal-adams",
   "metadata": {},
   "source": [
    "#### Answer:\n",
    "There are 5377 movies and 2410 TV shows in the dataset."
   ]
  },
  {
   "cell_type": "markdown",
   "id": "automotive-motor",
   "metadata": {},
   "source": [
    "### Question 3: Show top 3 Directors, who gave the highest number of TV shows and movies?\n",
    "The logic of the answer for this question is the same as the one for question 2 and we ignore the 'unknown' director."
   ]
  },
  {
   "cell_type": "code",
   "execution_count": 15,
   "id": "editorial-nickname",
   "metadata": {},
   "outputs": [
    {
     "data": {
      "text/plain": [
       "unknown                                       2389\n",
       "Raúl Campos, Jan Suter                          18\n",
       "Marcus Raboy                                    16\n",
       "Jay Karas                                       14\n",
       "Cathy Garcia-Molina                             13\n",
       "                                              ... \n",
       "Quek Shio-chuan                                  1\n",
       "Marianna Palka                                   1\n",
       "Dustin McKenzie, Andrew Duncan, Audu Paden       1\n",
       "Eddie Rosas                                      1\n",
       "Raaghav Dar                                      1\n",
       "Name: director, Length: 4050, dtype: int64"
      ]
     },
     "execution_count": 15,
     "metadata": {},
     "output_type": "execute_result"
    }
   ],
   "source": [
    "df['director'].value_counts()"
   ]
  },
  {
   "cell_type": "markdown",
   "id": "decreased-trash",
   "metadata": {},
   "source": [
    "#### Answer: \n",
    "They are \n",
    "- Raúl Campos, Jan Suter\n",
    "- Marcus Raboy\n",
    "- Jay Karas  "
   ]
  },
  {
   "cell_type": "markdown",
   "id": "modern-barbados",
   "metadata": {},
   "source": [
    "### Question 4: Show top 3 countries, which were released the most movies in 2018"
   ]
  },
  {
   "cell_type": "code",
   "execution_count": 16,
   "id": "increasing-seven",
   "metadata": {
    "scrolled": true
   },
   "outputs": [
    {
     "data": {
      "text/html": [
       "<div>\n",
       "<style scoped>\n",
       "    .dataframe tbody tr th:only-of-type {\n",
       "        vertical-align: middle;\n",
       "    }\n",
       "\n",
       "    .dataframe tbody tr th {\n",
       "        vertical-align: top;\n",
       "    }\n",
       "\n",
       "    .dataframe thead th {\n",
       "        text-align: right;\n",
       "    }\n",
       "</style>\n",
       "<table border=\"1\" class=\"dataframe\">\n",
       "  <thead>\n",
       "    <tr style=\"text-align: right;\">\n",
       "      <th></th>\n",
       "      <th>show_id</th>\n",
       "      <th>type</th>\n",
       "      <th>title</th>\n",
       "      <th>director</th>\n",
       "      <th>cast</th>\n",
       "      <th>country</th>\n",
       "      <th>release_year</th>\n",
       "      <th>rating</th>\n",
       "      <th>duration</th>\n",
       "      <th>listed_in</th>\n",
       "      <th>description</th>\n",
       "    </tr>\n",
       "  </thead>\n",
       "  <tbody>\n",
       "    <tr>\n",
       "      <th>13</th>\n",
       "      <td>s14</td>\n",
       "      <td>Movie</td>\n",
       "      <td>2,215</td>\n",
       "      <td>Nottapon Boonprakob</td>\n",
       "      <td>Artiwara Kongmalai</td>\n",
       "      <td>Thailand</td>\n",
       "      <td>2018</td>\n",
       "      <td>TV-MA</td>\n",
       "      <td>89 min</td>\n",
       "      <td>Documentaries, International Movies, Sports Mo...</td>\n",
       "      <td>This intimate documentary follows rock star Ar...</td>\n",
       "    </tr>\n",
       "    <tr>\n",
       "      <th>17</th>\n",
       "      <td>s18</td>\n",
       "      <td>Movie</td>\n",
       "      <td>22-Jul</td>\n",
       "      <td>Paul Greengrass</td>\n",
       "      <td>Anders Danielsen Lie, Jon Øigarden, Jonas Stra...</td>\n",
       "      <td>Norway, Iceland, United States</td>\n",
       "      <td>2018</td>\n",
       "      <td>R</td>\n",
       "      <td>144 min</td>\n",
       "      <td>Dramas, Thrillers</td>\n",
       "      <td>After devastating terror attacks in Norway, a ...</td>\n",
       "    </tr>\n",
       "    <tr>\n",
       "      <th>20</th>\n",
       "      <td>s21</td>\n",
       "      <td>Movie</td>\n",
       "      <td>​​Kuch Bheege Alfaaz</td>\n",
       "      <td>Onir</td>\n",
       "      <td>Geetanjali Thapa, Zain Khan Durrani, Shray Rai...</td>\n",
       "      <td>India</td>\n",
       "      <td>2018</td>\n",
       "      <td>TV-14</td>\n",
       "      <td>110 min</td>\n",
       "      <td>Dramas, Independent Movies, International Movies</td>\n",
       "      <td>After accidentally connecting over the Interne...</td>\n",
       "    </tr>\n",
       "    <tr>\n",
       "      <th>21</th>\n",
       "      <td>s22</td>\n",
       "      <td>Movie</td>\n",
       "      <td>​Goli Soda 2</td>\n",
       "      <td>Vijay Milton</td>\n",
       "      <td>Samuthirakani, Bharath Seeni, Vinoth, Esakki B...</td>\n",
       "      <td>India</td>\n",
       "      <td>2018</td>\n",
       "      <td>TV-14</td>\n",
       "      <td>128 min</td>\n",
       "      <td>Action &amp; Adventure, Dramas, International Movies</td>\n",
       "      <td>A taxi driver, a gangster and an athlete strug...</td>\n",
       "    </tr>\n",
       "    <tr>\n",
       "      <th>31</th>\n",
       "      <td>s32</td>\n",
       "      <td>Movie</td>\n",
       "      <td>#FriendButMarried</td>\n",
       "      <td>Rako Prijanto</td>\n",
       "      <td>Adipati Dolken, Vanesha Prescilla, Rendi Jhon,...</td>\n",
       "      <td>Indonesia</td>\n",
       "      <td>2018</td>\n",
       "      <td>TV-G</td>\n",
       "      <td>102 min</td>\n",
       "      <td>Dramas, International Movies, Romantic Movies</td>\n",
       "      <td>Pining for his high school crush for years, a ...</td>\n",
       "    </tr>\n",
       "    <tr>\n",
       "      <th>...</th>\n",
       "      <td>...</td>\n",
       "      <td>...</td>\n",
       "      <td>...</td>\n",
       "      <td>...</td>\n",
       "      <td>...</td>\n",
       "      <td>...</td>\n",
       "      <td>...</td>\n",
       "      <td>...</td>\n",
       "      <td>...</td>\n",
       "      <td>...</td>\n",
       "      <td>...</td>\n",
       "    </tr>\n",
       "    <tr>\n",
       "      <th>7751</th>\n",
       "      <td>s7752</td>\n",
       "      <td>Movie</td>\n",
       "      <td>Yucatán</td>\n",
       "      <td>Daniel Monzón</td>\n",
       "      <td>Luis Tosar, Rodrigo de la Serna, Joan Pera, St...</td>\n",
       "      <td>Spain</td>\n",
       "      <td>2018</td>\n",
       "      <td>TV-MA</td>\n",
       "      <td>130 min</td>\n",
       "      <td>Comedies, International Movies</td>\n",
       "      <td>Competing con artists attempt to creatively an...</td>\n",
       "    </tr>\n",
       "    <tr>\n",
       "      <th>7764</th>\n",
       "      <td>s7765</td>\n",
       "      <td>Movie</td>\n",
       "      <td>Zero</td>\n",
       "      <td>Aanand Rai</td>\n",
       "      <td>Shah Rukh Khan, Anushka Sharma, Katrina Kaif, ...</td>\n",
       "      <td>India</td>\n",
       "      <td>2018</td>\n",
       "      <td>TV-14</td>\n",
       "      <td>159 min</td>\n",
       "      <td>Comedies, Dramas, International Movies</td>\n",
       "      <td>Through his relationships with two wildly diff...</td>\n",
       "    </tr>\n",
       "    <tr>\n",
       "      <th>7765</th>\n",
       "      <td>s7766</td>\n",
       "      <td>Movie</td>\n",
       "      <td>Zero Hour</td>\n",
       "      <td>Robert O. Peters</td>\n",
       "      <td>Richard Mofe-Damijo, Alex Ekubo, Ali Nuhu, Rah...</td>\n",
       "      <td>unknown</td>\n",
       "      <td>2018</td>\n",
       "      <td>TV-MA</td>\n",
       "      <td>89 min</td>\n",
       "      <td>International Movies, Thrillers</td>\n",
       "      <td>After his father passes, the heir to a retail ...</td>\n",
       "    </tr>\n",
       "    <tr>\n",
       "      <th>7771</th>\n",
       "      <td>s7772</td>\n",
       "      <td>Movie</td>\n",
       "      <td>Zion</td>\n",
       "      <td>Floyd Russ</td>\n",
       "      <td>Zion Clark</td>\n",
       "      <td>United States</td>\n",
       "      <td>2018</td>\n",
       "      <td>TV-PG</td>\n",
       "      <td>12 min</td>\n",
       "      <td>Documentaries, Sports Movies</td>\n",
       "      <td>Born without legs and stuck in foster care for...</td>\n",
       "    </tr>\n",
       "    <tr>\n",
       "      <th>7780</th>\n",
       "      <td>s7781</td>\n",
       "      <td>Movie</td>\n",
       "      <td>Zoo</td>\n",
       "      <td>Shlok Sharma</td>\n",
       "      <td>Shashank Arora, Shweta Tripathi, Rahul Kumar, ...</td>\n",
       "      <td>India</td>\n",
       "      <td>2018</td>\n",
       "      <td>TV-MA</td>\n",
       "      <td>94 min</td>\n",
       "      <td>Dramas, Independent Movies, International Movies</td>\n",
       "      <td>A drug dealer starts having doubts about his t...</td>\n",
       "    </tr>\n",
       "  </tbody>\n",
       "</table>\n",
       "<p>734 rows × 11 columns</p>\n",
       "</div>"
      ],
      "text/plain": [
       "     show_id   type                 title             director  \\\n",
       "13       s14  Movie                 2,215  Nottapon Boonprakob   \n",
       "17       s18  Movie                22-Jul      Paul Greengrass   \n",
       "20       s21  Movie  ​​Kuch Bheege Alfaaz                 Onir   \n",
       "21       s22  Movie          ​Goli Soda 2         Vijay Milton   \n",
       "31       s32  Movie     #FriendButMarried        Rako Prijanto   \n",
       "...      ...    ...                   ...                  ...   \n",
       "7751   s7752  Movie               Yucatán        Daniel Monzón   \n",
       "7764   s7765  Movie                  Zero           Aanand Rai   \n",
       "7765   s7766  Movie             Zero Hour     Robert O. Peters   \n",
       "7771   s7772  Movie                  Zion           Floyd Russ   \n",
       "7780   s7781  Movie                   Zoo         Shlok Sharma   \n",
       "\n",
       "                                                   cast  \\\n",
       "13                                   Artiwara Kongmalai   \n",
       "17    Anders Danielsen Lie, Jon Øigarden, Jonas Stra...   \n",
       "20    Geetanjali Thapa, Zain Khan Durrani, Shray Rai...   \n",
       "21    Samuthirakani, Bharath Seeni, Vinoth, Esakki B...   \n",
       "31    Adipati Dolken, Vanesha Prescilla, Rendi Jhon,...   \n",
       "...                                                 ...   \n",
       "7751  Luis Tosar, Rodrigo de la Serna, Joan Pera, St...   \n",
       "7764  Shah Rukh Khan, Anushka Sharma, Katrina Kaif, ...   \n",
       "7765  Richard Mofe-Damijo, Alex Ekubo, Ali Nuhu, Rah...   \n",
       "7771                                         Zion Clark   \n",
       "7780  Shashank Arora, Shweta Tripathi, Rahul Kumar, ...   \n",
       "\n",
       "                             country  release_year rating duration  \\\n",
       "13                          Thailand          2018  TV-MA   89 min   \n",
       "17    Norway, Iceland, United States          2018      R  144 min   \n",
       "20                             India          2018  TV-14  110 min   \n",
       "21                             India          2018  TV-14  128 min   \n",
       "31                         Indonesia          2018   TV-G  102 min   \n",
       "...                              ...           ...    ...      ...   \n",
       "7751                           Spain          2018  TV-MA  130 min   \n",
       "7764                           India          2018  TV-14  159 min   \n",
       "7765                         unknown          2018  TV-MA   89 min   \n",
       "7771                   United States          2018  TV-PG   12 min   \n",
       "7780                           India          2018  TV-MA   94 min   \n",
       "\n",
       "                                              listed_in  \\\n",
       "13    Documentaries, International Movies, Sports Mo...   \n",
       "17                                    Dramas, Thrillers   \n",
       "20     Dramas, Independent Movies, International Movies   \n",
       "21     Action & Adventure, Dramas, International Movies   \n",
       "31        Dramas, International Movies, Romantic Movies   \n",
       "...                                                 ...   \n",
       "7751                     Comedies, International Movies   \n",
       "7764             Comedies, Dramas, International Movies   \n",
       "7765                    International Movies, Thrillers   \n",
       "7771                       Documentaries, Sports Movies   \n",
       "7780   Dramas, Independent Movies, International Movies   \n",
       "\n",
       "                                            description  \n",
       "13    This intimate documentary follows rock star Ar...  \n",
       "17    After devastating terror attacks in Norway, a ...  \n",
       "20    After accidentally connecting over the Interne...  \n",
       "21    A taxi driver, a gangster and an athlete strug...  \n",
       "31    Pining for his high school crush for years, a ...  \n",
       "...                                                 ...  \n",
       "7751  Competing con artists attempt to creatively an...  \n",
       "7764  Through his relationships with two wildly diff...  \n",
       "7765  After his father passes, the heir to a retail ...  \n",
       "7771  Born without legs and stuck in foster care for...  \n",
       "7780  A drug dealer starts having doubts about his t...  \n",
       "\n",
       "[734 rows x 11 columns]"
      ]
     },
     "execution_count": 16,
     "metadata": {},
     "output_type": "execute_result"
    }
   ],
   "source": [
    "# firstly, get the dataframe which type is movie and release_year is 2018\n",
    "df[(df['type']=='Movie') & (df['release_year']==2018)]"
   ]
  },
  {
   "cell_type": "code",
   "execution_count": 17,
   "id": "distributed-evening",
   "metadata": {},
   "outputs": [],
   "source": [
    "q4 = df[(df['type']=='Movie') & (df['release_year']==2018)]"
   ]
  },
  {
   "cell_type": "code",
   "execution_count": 18,
   "id": "whole-bearing",
   "metadata": {},
   "outputs": [
    {
     "data": {
      "text/plain": [
       "United States     238\n",
       "India              82\n",
       "unknown            46\n",
       "United Kingdom     25\n",
       "Canada             25\n",
       "Spain              24\n",
       "Nigeria            14\n",
       "Indonesia          13\n",
       "Mexico             11\n",
       "Japan              11\n",
       "Name: country, dtype: int64"
      ]
     },
     "execution_count": 18,
     "metadata": {},
     "output_type": "execute_result"
    }
   ],
   "source": [
    "q4['country'].value_counts().head(10)"
   ]
  },
  {
   "cell_type": "markdown",
   "id": "surprising-folks",
   "metadata": {},
   "source": [
    "#### Answer:\n",
    "We ignore 'unknown', those countries are United States, India, United Kingdom, and Canada (UK and Canada have the same number of movies)."
   ]
  },
  {
   "cell_type": "markdown",
   "id": "stuffed-click",
   "metadata": {},
   "source": [
    "### Question 5: In how many movies/shows, Tom Cruise was cast?"
   ]
  },
  {
   "cell_type": "code",
   "execution_count": 22,
   "id": "seven-lyric",
   "metadata": {
    "scrolled": true
   },
   "outputs": [
    {
     "data": {
      "text/html": [
       "<div>\n",
       "<style scoped>\n",
       "    .dataframe tbody tr th:only-of-type {\n",
       "        vertical-align: middle;\n",
       "    }\n",
       "\n",
       "    .dataframe tbody tr th {\n",
       "        vertical-align: top;\n",
       "    }\n",
       "\n",
       "    .dataframe thead th {\n",
       "        text-align: right;\n",
       "    }\n",
       "</style>\n",
       "<table border=\"1\" class=\"dataframe\">\n",
       "  <thead>\n",
       "    <tr style=\"text-align: right;\">\n",
       "      <th></th>\n",
       "      <th>show_id</th>\n",
       "      <th>type</th>\n",
       "      <th>title</th>\n",
       "      <th>director</th>\n",
       "      <th>cast</th>\n",
       "      <th>country</th>\n",
       "      <th>release_year</th>\n",
       "      <th>rating</th>\n",
       "      <th>duration</th>\n",
       "      <th>listed_in</th>\n",
       "      <th>description</th>\n",
       "    </tr>\n",
       "  </thead>\n",
       "  <tbody>\n",
       "    <tr>\n",
       "      <th>3860</th>\n",
       "      <td>s3861</td>\n",
       "      <td>Movie</td>\n",
       "      <td>Magnolia</td>\n",
       "      <td>Paul Thomas Anderson</td>\n",
       "      <td>Jeremy Blackman, Tom Cruise, Melinda Dillon, A...</td>\n",
       "      <td>United States</td>\n",
       "      <td>1999</td>\n",
       "      <td>R</td>\n",
       "      <td>189 min</td>\n",
       "      <td>Dramas, Independent Movies</td>\n",
       "      <td>Through chance, human action, past history and...</td>\n",
       "    </tr>\n",
       "    <tr>\n",
       "      <th>5070</th>\n",
       "      <td>s5071</td>\n",
       "      <td>Movie</td>\n",
       "      <td>Rain Man</td>\n",
       "      <td>Barry Levinson</td>\n",
       "      <td>Dustin Hoffman, Tom Cruise, Valeria Golino, Ge...</td>\n",
       "      <td>United States</td>\n",
       "      <td>1988</td>\n",
       "      <td>R</td>\n",
       "      <td>134 min</td>\n",
       "      <td>Classic Movies, Dramas</td>\n",
       "      <td>A fast-talking yuppie is forced to slow down w...</td>\n",
       "    </tr>\n",
       "  </tbody>\n",
       "</table>\n",
       "</div>"
      ],
      "text/plain": [
       "     show_id   type     title              director  \\\n",
       "3860   s3861  Movie  Magnolia  Paul Thomas Anderson   \n",
       "5070   s5071  Movie  Rain Man        Barry Levinson   \n",
       "\n",
       "                                                   cast        country  \\\n",
       "3860  Jeremy Blackman, Tom Cruise, Melinda Dillon, A...  United States   \n",
       "5070  Dustin Hoffman, Tom Cruise, Valeria Golino, Ge...  United States   \n",
       "\n",
       "      release_year rating duration                   listed_in  \\\n",
       "3860          1999      R  189 min  Dramas, Independent Movies   \n",
       "5070          1988      R  134 min      Classic Movies, Dramas   \n",
       "\n",
       "                                            description  \n",
       "3860  Through chance, human action, past history and...  \n",
       "5070  A fast-talking yuppie is forced to slow down w...  "
      ]
     },
     "execution_count": 22,
     "metadata": {},
     "output_type": "execute_result"
    }
   ],
   "source": [
    "# use str.contains() \n",
    "df[df['cast'].str.contains('Tom Cruise')]"
   ]
  },
  {
   "cell_type": "markdown",
   "id": "psychological-soviet",
   "metadata": {},
   "source": [
    "#### Answer: \n",
    "There are 2 movies in which Tom Cruise was cast. They are \"Magnolia\" and \"Rain Man\"."
   ]
  },
  {
   "cell_type": "code",
   "execution_count": null,
   "id": "portable-degree",
   "metadata": {},
   "outputs": [],
   "source": []
  }
 ],
 "metadata": {
  "kernelspec": {
   "display_name": "Python 3",
   "language": "python",
   "name": "python3"
  },
  "language_info": {
   "codemirror_mode": {
    "name": "ipython",
    "version": 3
   },
   "file_extension": ".py",
   "mimetype": "text/x-python",
   "name": "python",
   "nbconvert_exporter": "python",
   "pygments_lexer": "ipython3",
   "version": "3.8.8"
  }
 },
 "nbformat": 4,
 "nbformat_minor": 5
}
